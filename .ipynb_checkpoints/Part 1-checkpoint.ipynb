{
 "cells": [
  {
   "cell_type": "markdown",
   "id": "a49617d6",
   "metadata": {},
   "source": [
    "# Stack"
   ]
  },
  {
   "cell_type": "markdown",
   "id": "43654c39",
   "metadata": {},
   "source": [
    "<u>[Example](https://leetcode.com/problems/valid-parentheses/)</u>:</br>\n",
    "Given a string s containing just the characters '(', ')', '{', '}', '[' and ']', determine if the input string is valid.\n",
    "\n",
    "An input string is valid if:\n",
    "\n",
    "* Open brackets must be closed by the same type of brackets.\n",
    "* Open brackets must be closed in the correct order.\n",
    "* Every close bracket has a corresponding open bracket of the same type."
   ]
  },
  {
   "cell_type": "markdown",
   "id": "ff601fb9",
   "metadata": {},
   "source": [
    "### Understand\n",
    "    - Input\n",
    "        * Type -> String\n",
    "        * Contains -> brackets only -> ()[]{}\n",
    "        * Length -> Limited\n",
    "    - Output\n",
    "        * Type -> Boolean\n",
    "        \n",
    "    - Is Empty string valid or invalid??"
   ]
  },
  {
   "cell_type": "markdown",
   "id": "5c2699a3",
   "metadata": {},
   "source": [
    "### Think\n",
    "    - Valid example:\n",
    "        '( (  ) )'\n",
    "        '( [ ] ) { }'\n",
    "    - Invalid example:\n",
    "        '( [ ( ] ) )'\n",
    "        '[ ] { ) ( )'\n",
    "        \n",
    "Since the characters are brackets only. there is only 2 possiblities:\n",
    "1. Open Bracket:\n",
    "    * Valid if:\n",
    "        - Next character is closed braket of <u>same</u> type \n",
    "        - Next character is open bracket(any type)\n",
    "    * Invalid if:\n",
    "        - Next character is closed braket of <u>different</u> type \n",
    "        - There is no next character\n",
    "2. Closed Bracket:\n",
    "    * Valid if:\n",
    "        - Previous character is open braket of <u>same</u> type\n",
    "        - Previous character is closed bracket(any type)\n",
    "    * Invalid if:\n",
    "        - Previous character is open braket of <u>different</u> type \n",
    "        - There is no previous character\n",
    "        \n",
    "<u>Possible Solution:</u>\n",
    "* Iterate through string\n",
    "* Keep track of open brackets by storing them in a list seprately\n",
    "* As soon as we get the first closed bracket, validate(same type) the string\n",
    "    - if valid:\n",
    "        * remove that element\n",
    "    - Else:\n",
    "        * return False\n",
    "* If any open brack left:\n",
    "    - return False\n",
    "        \n",
    "<u>Useful Data Structures:</u>\n",
    "1. Stack(List)\n",
    "    * Would help in keeping track of the previous characters/open brackets\n",
    "2. Hashmap(Dict)\n",
    "    * Would help in validating/storing the same type of bracket"
   ]
  },
  {
   "cell_type": "markdown",
   "id": "d3d7b21b",
   "metadata": {},
   "source": [
    "### Implement"
   ]
  },
  {
   "cell_type": "code",
   "execution_count": 17,
   "id": "b0b0437b",
   "metadata": {},
   "outputs": [],
   "source": [
    "def validate_string(s):\n",
    "    if not s:\n",
    "        return False\n",
    "    \n",
    "    stack = []\n",
    "    hashmap = {\n",
    "        '}':'{',\n",
    "        ')':'(',\n",
    "        ']':'['\n",
    "    }\n",
    "    \n",
    "    #iterate through string\n",
    "    for char in s: #Big(O) = length of s\n",
    "        # if character is open bracket -> add it to stack\n",
    "        if char not in hashmap: #Big(O) = 1\n",
    "            stack.append(char) #Big(O) = 1\n",
    "        else:\n",
    "            #get the previous character\n",
    "            prev_char = stack.pop() if stack else '$' #Big(O) = 1\n",
    "            if hashmap[char] != prev_char:\n",
    "                return False\n",
    "            \n",
    "    return True if not stack else False"
   ]
  },
  {
   "cell_type": "code",
   "execution_count": 18,
   "id": "1f8d5065",
   "metadata": {},
   "outputs": [
    {
     "name": "stdout",
     "output_type": "stream",
     "text": [
      "False\n"
     ]
    }
   ],
   "source": [
    "print(validate_string(')'))"
   ]
  },
  {
   "cell_type": "markdown",
   "id": "0506456d",
   "metadata": {},
   "source": [
    "### Test\n",
    "1. Walk throuhgh code and use examples to test\n",
    "2. Find Big(0) complexity of all functions"
   ]
  },
  {
   "cell_type": "code",
   "execution_count": 50,
   "id": "ce867b9c",
   "metadata": {},
   "outputs": [
    {
     "name": "stdout",
     "output_type": "stream",
     "text": [
      "1: True\n",
      "2: True\n",
      "\n",
      "3: False\n",
      "4: False\n",
      "\n",
      "5: False\n",
      "6: False\n",
      "6: False\n",
      "\n",
      "Time Complexity = n; where n is lenght of string\n",
      "\n",
      "Space Complexity:\n",
      "One Stack(max length = length of string) and Hashmap(constant); Therefore \"n\" \n"
     ]
    }
   ],
   "source": [
    "#Valid\n",
    "print('1:',validate_string('(())'))\n",
    "print('2:',validate_string('([]){}'))\n",
    "\n",
    "#Invalid\n",
    "print('\\n3:',validate_string('([(]))'))\n",
    "print('4:',validate_string('[]{)()'))\n",
    "\n",
    "# Edge Case\n",
    "print('\\n5:',validate_string(''))\n",
    "print('6:',validate_string('((((((('))\n",
    "print('6:',validate_string('}}}}'))\n",
    "\n",
    "# Time Complexity\n",
    "print('\\nTime Complexity = n; where n is lenght of string')\n",
    "# Space Complexity\n",
    "print('\\nSpace Complexity:\\nOne Stack(max length = length of string) and Hashmap(constant); Therefore \"n\" ')"
   ]
  },
  {
   "cell_type": "markdown",
   "id": "301153f1",
   "metadata": {},
   "source": [
    "# Queue"
   ]
  },
  {
   "cell_type": "markdown",
   "id": "7f2d1904",
   "metadata": {},
   "source": [
    "<u>[Example](https://leetcode.com/problems/moving-average-from-data-stream/description/)</u>:</br>\n",
    "Given a stream of integers and a window size, calculate the moving average of all integers in the sliding window.\n",
    "\n",
    "Implement the MovingAverage class:\n",
    "\n",
    "* MovingAverage(int size) \n",
    "    - Initializes the object with the size of the window size.\n",
    "* double next(int val) \n",
    "    - Returns the moving average of the last size values of the stream."
   ]
  },
  {
   "cell_type": "markdown",
   "id": "b6ff072a",
   "metadata": {},
   "source": [
    "1. Understand the input/output\n",
    "2. Think of a few examples and come up with a solution\n",
    "3. Implement"
   ]
  },
  {
   "cell_type": "code",
   "execution_count": 22,
   "id": "00dca1fb",
   "metadata": {},
   "outputs": [],
   "source": [
    "class MovingAverage(object):\n",
    "\n",
    "    def __init__(self, size: int):\n",
    "        self.size = size\n",
    "        self.queue = []\n",
    "\n",
    "    def next(self, val: int) -> float:\n",
    "        if len(self.queue) == self.size:\n",
    "            self.queue.pop(0)\n",
    "            self.queue.append(val)\n",
    "            return sum(self.queue) / self.size\n",
    "        else:\n",
    "            self.queue.append(val)\n",
    "            return sum(self.queue) / len(self.queue)"
   ]
  },
  {
   "cell_type": "code",
   "execution_count": 34,
   "id": "81a89944",
   "metadata": {},
   "outputs": [
    {
     "name": "stdout",
     "output_type": "stream",
     "text": [
      "Queue: [0, 3, 6, 9, 12, 15, 18, 21, 24]\n",
      "0.0\n",
      "1.5\n",
      "3.0\n",
      "6.0\n",
      "9.0\n",
      "12.0\n",
      "15.0\n",
      "18.0\n",
      "21.0\n"
     ]
    }
   ],
   "source": [
    "# 4. Test\n",
    "lst = list(range(0,25,3))\n",
    "\n",
    "window_size = 3\n",
    "Test1 = MovingAverage(window_size)\n",
    "\n",
    "print('Queue:',lst)\n",
    "for num in lst:\n",
    "    print(Test1.next(num))"
   ]
  },
  {
   "cell_type": "markdown",
   "id": "c464e9c4",
   "metadata": {},
   "source": [
    "# Heap"
   ]
  },
  {
   "cell_type": "markdown",
   "id": "f714fd6f",
   "metadata": {},
   "source": [
    "<u>[Example](https://leetcode.com/problems/last-stone-weight/description/)</u>:</br>\n",
    "You are given an array of integers stones where stones[i] is the weight of the ith stone.\n",
    "\n",
    "We are playing a game with the stones. On each turn, we choose the heaviest two stones and smash them together. Suppose the heaviest two stones have weights x and y with x <= y. The result of this smash is:\n",
    "\n",
    "* If x == y, both stones are destroyed, and\n",
    "* If x != y, the stone of weight x is destroyed, and the stone of weight y has new weight y - x. <br>\n",
    "\n",
    "At the end of the game, there is at most one stone left.\n",
    "\n",
    "Return the weight of the last remaining stone. If there are no stones left, return 0."
   ]
  },
  {
   "cell_type": "code",
   "execution_count": 61,
   "id": "5b8199c8",
   "metadata": {},
   "outputs": [],
   "source": [
    "import heapq\n",
    "def lastStoneWeight(stones):\n",
    "    # create max heap by multiplying values to -1\n",
    "    stones = [-1 * x for x in stones]\n",
    "    heapq.heapify(stones)\n",
    "\n",
    "    while len(stones) > 1:\n",
    "        #print(stones)\n",
    "        y = heapq.heappop(stones) # remove heaviest stone from list\n",
    "        x = heapq.heappop(stones) # remove 2nd heaviest from list\n",
    "        # if both not equal, add the remainder\n",
    "        if x != y:\n",
    "            x = x * -1\n",
    "            y = y * -1\n",
    "            rem = y - x\n",
    "            heapq.heappush(stones, -rem )\n",
    "\n",
    "    return -stones[0] if stones else 0"
   ]
  },
  {
   "cell_type": "code",
   "execution_count": 62,
   "id": "15a880d8",
   "metadata": {},
   "outputs": [
    {
     "name": "stdout",
     "output_type": "stream",
     "text": [
      "[10, 25, 13, 22, 14]\n",
      "6\n"
     ]
    }
   ],
   "source": [
    "import random\n",
    "random.seed(31)\n",
    "test_lst = random.sample(range(10, 30), 5)\n",
    "print(test_lst)\n",
    "print(lastStoneWeight(test_lst))"
   ]
  }
 ],
 "metadata": {
  "kernelspec": {
   "display_name": "Python 3 (ipykernel)",
   "language": "python",
   "name": "python3"
  },
  "language_info": {
   "codemirror_mode": {
    "name": "ipython",
    "version": 3
   },
   "file_extension": ".py",
   "mimetype": "text/x-python",
   "name": "python",
   "nbconvert_exporter": "python",
   "pygments_lexer": "ipython3",
   "version": "3.9.13"
  }
 },
 "nbformat": 4,
 "nbformat_minor": 5
}
